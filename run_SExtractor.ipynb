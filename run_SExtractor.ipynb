{
 "cells": [
  {
   "cell_type": "code",
   "execution_count": 1,
   "id": "358aeb25",
   "metadata": {},
   "outputs": [],
   "source": [
    "# %matplotlib inline\n",
    "from astropy.io import fits\n",
    "import pandas as pd\n",
    "import numpy as np\n",
    "import matplotlib.pyplot as plt\n",
    "from scipy import stats\n",
    "from mpdaf.sdetect import Source\n",
    "from astropy.table import Table\n",
    "from astropy.io import ascii\n",
    "import astropy.units as u\n",
    "from astropy import wcs\n",
    "from astropy.coordinates import SkyCoord\n",
    "import astropy.coordinates.distances as Distance\n",
    "import matplotlib as mp\n",
    "import cmasher as cmr\n",
    "from astropy.cosmology import FlatLambdaCDM\n",
    "cosmo = FlatLambdaCDM(H0=70, Om0=0.3, Tcmb0=2.725)\n",
    "from astropy.stats import sigma_clip\n",
    "from astropy.convolution import Gaussian1DKernel, convolve\n",
    "\n",
    "from mpdaf.obj import Cube, Spectrum, WaveCoord, iter_spe\n",
    "from mpdaf.drs import PixTable\n",
    "from mpdaf.sdetect import Source, compute_optimal_spectrum\n",
    "import string as s\n",
    "\n",
    "from astrodendro import Dendrogram\n",
    "\n",
    "import glob\n",
    "pd.set_option('chained_assignment',None)\n",
    "import warnings\n",
    "from astropy.utils.exceptions import AstropyWarning\n",
    "warnings.simplefilter('ignore', category=AstropyWarning)\n",
    "\n",
    "\n",
    "pd.set_option('chained_assignment',None)\n",
    "\n",
    "from matplotlib import rc\n",
    "rc('font',**{'family':'sans','serif':['Helvetica']})\n",
    "## for Palatino and other serif fonts use:\n",
    "#rc('font',**{'family':'serif','serif':['Palatino']})\n",
    "rc('text', usetex=True)"
   ]
  },
  {
   "cell_type": "code",
   "execution_count": 2,
   "id": "be0fffca",
   "metadata": {},
   "outputs": [],
   "source": [
    "from mpdaf.obj import Cube, Spectrum, WaveCoord, iter_spe\n",
    "from mpdaf.drs import PixTable\n",
    "from mpdaf.sdetect import Source, compute_optimal_spectrum\n",
    "\n"
   ]
  },
  {
   "cell_type": "code",
   "execution_count": 3,
   "id": "2facf82a",
   "metadata": {},
   "outputs": [],
   "source": [
    "galaxies = glob.glob('../outputs/jasper_1206_LAEs/MAGPI1206_source_*.fits')"
   ]
  },
  {
   "cell_type": "code",
   "execution_count": 4,
   "id": "7beb9349",
   "metadata": {},
   "outputs": [
    {
     "name": "stderr",
     "output_type": "stream",
     "text": [
      "[DEBUG] Doing LA\n",
      "[DEBUG] Image LA has one useful objects\n",
      "[WARNING] The world coordinates and data have different dimensions. Modifying the shape of the WCS object\n",
      "[DEBUG] Doing LA\n",
      "[DEBUG] Image LA has one useful objects\n",
      "[WARNING] The world coordinates and data have different dimensions. Modifying the shape of the WCS object\n"
     ]
    },
    {
     "name": "stdout",
     "output_type": "stream",
     "text": [
      "../outputs/jasper_1206_LAEs/MAGPI1206_source_198.fits\n"
     ]
    },
    {
     "data": {
      "image/png": "[encoded data removed]",
      "text/plain": [
       "<Figure size 432x288 with 3 Axes>"
      ]
     },
     "metadata": {
      "needs_background": "light"
     },
     "output_type": "display_data"
    }
   ],
   "source": [
    "for galaxy in galaxies: \n",
    "\n",
    "    s = Source.from_file(galaxy)\n",
    "    \n",
    "    \n",
    "    s.add_seg_images(tags=[ 'LA'])\n",
    "\n",
    "    s.find_sky_mask(seg_tags=[ 'LA'])\n",
    "\n",
    "    s.find_union_mask(seg_tags=['LA'])\n",
    "\n",
    "    s.find_intersection_mask(seg_tags=[ 'LA'])\n",
    "\n",
    "    s.write(galaxy.replace('source', 'updated_source'))\n",
    "\n",
    "    print(galaxy)\n",
    "    \n",
    "    fig, axs = plt.subplots(ncols=3)\n",
    "\n",
    "    s.images['MUSE_WHITE'].plot(ax=axs[0])\n",
    "    s.images['LA'].plot(ax=axs[1])\n",
    "    s.images['SEG_LA'].plot(ax=axs[2])\n",
    "    \n",
    "    break \n"
   ]
  },
  {
   "cell_type": "code",
   "execution_count": 29,
   "id": "ff3d26ce",
   "metadata": {},
   "outputs": [],
   "source": [
    "\n",
    "\n",
    "r = radial_data(s.images['LA'].data ,annulus_width=1,working_mask=None,x=None,y=None,rmax=None)"
   ]
  },
  {
   "cell_type": "code",
   "execution_count": 31,
   "id": "7a5cc418",
   "metadata": {},
   "outputs": [
    {
     "data": {
      "text/plain": [
       "15"
      ]
     },
     "execution_count": 31,
     "metadata": {},
     "output_type": "execute_result"
    }
   ],
   "source": [
    "len(r.r)"
   ]
  },
  {
   "cell_type": "code",
   "execution_count": 28,
   "id": "f330b6a1",
   "metadata": {},
   "outputs": [
    {
     "data": {
      "text/plain": [
       "7.0710678118654755"
      ]
     },
     "execution_count": 28,
     "metadata": {},
     "output_type": "execute_result"
    }
   ],
   "source": [
    "np.sqrt(50)"
   ]
  },
  {
   "cell_type": "code",
   "execution_count": null,
   "id": "2394842a",
   "metadata": {},
   "outputs": [],
   "source": []
  },
  {
   "cell_type": "code",
   "execution_count": 17,
   "id": "12ece649",
   "metadata": {},
   "outputs": [],
   "source": [
    "npix = 50.\n",
    "x = np.arange(npix) - npix/2.\n",
    "xx, yy = np.meshgrid(x, x)\n",
    "r = np.sqrt(xx**2 + yy**2)\n",
    "fake_psf = np.exp(-(r/5.)**2)\n",
    "noise = 0.1 * np.random.normal(0, 1, r.size).reshape(r.shape)\n",
    "simulation = fake_psf + noise\n",
    "\n",
    "rad_stats = radial_data(simulation, x=xx, y=yy)"
   ]
  },
  {
   "cell_type": "code",
   "execution_count": 19,
   "id": "ce2f36a8",
   "metadata": {},
   "outputs": [
    {
     "data": {
      "text/plain": [
       "array([ 0.5,  1.5,  2.5,  3.5,  4.5,  5.5,  6.5,  7.5,  8.5,  9.5, 10.5,\n",
       "       11.5, 12.5, 13.5, 14.5, 15.5, 16.5, 17.5, 18.5, 19.5, 20.5, 21.5,\n",
       "       22.5, 23.5, 24.5, 25.5, 26.5, 27.5, 28.5, 29.5, 30.5, 31.5, 32.5,\n",
       "       33.5, 34.5, 35.5])"
      ]
     },
     "execution_count": 19,
     "metadata": {},
     "output_type": "execute_result"
    }
   ],
   "source": [
    "rad_stats.r"
   ]
  },
  {
   "cell_type": "code",
   "execution_count": 21,
   "id": "5f6191d8",
   "metadata": {},
   "outputs": [
    {
     "data": {
      "text/plain": [
       "(50, 50)"
      ]
     },
     "execution_count": 21,
     "metadata": {},
     "output_type": "execute_result"
    }
   ],
   "source": [
    "simulation.shape"
   ]
  },
  {
   "cell_type": "code",
   "execution_count": 24,
   "id": "92851b37",
   "metadata": {},
   "outputs": [
    {
     "data": {
      "text/plain": [
       "array([-25.+1.j, -24.+1.j, -23.+1.j, -22.+1.j, -21.+1.j, -20.+1.j,\n",
       "       -19.+1.j, -18.+1.j, -17.+1.j, -16.+1.j, -15.+1.j, -14.+1.j,\n",
       "       -13.+1.j, -12.+1.j, -11.+1.j, -10.+1.j,  -9.+1.j,  -8.+1.j,\n",
       "        -7.+1.j,  -6.+1.j,  -5.+1.j,  -4.+1.j,  -3.+1.j,  -2.+1.j,\n",
       "        -1.+1.j,   0.+1.j,   1.+1.j,   2.+1.j,   3.+1.j,   4.+1.j,\n",
       "         5.+1.j,   6.+1.j,   7.+1.j,   8.+1.j,   9.+1.j,  10.+1.j,\n",
       "        11.+1.j,  12.+1.j,  13.+1.j,  14.+1.j,  15.+1.j,  16.+1.j,\n",
       "        17.+1.j,  18.+1.j,  19.+1.j,  20.+1.j,  21.+1.j,  22.+1.j,\n",
       "        23.+1.j,  24.+1.j])"
      ]
     },
     "execution_count": 24,
     "metadata": {},
     "output_type": "execute_result"
    }
   ],
   "source": [
    "x+1j"
   ]
  },
  {
   "cell_type": "code",
   "execution_count": null,
   "id": "4cf75c42",
   "metadata": {},
   "outputs": [],
   "source": []
  },
  {
   "cell_type": "code",
   "execution_count": 10,
   "id": "81547065",
   "metadata": {},
   "outputs": [],
   "source": [
    "def radial_data(data,annulus_width=1,working_mask=None,x=None,y=None,rmax=None):\n",
    "    \"\"\"\n",
    "    r = radial_data(data,annulus_width,working_mask,x,y)\n",
    "    \n",
    "    A function to reduce an image to a radial cross-section.\n",
    "    \n",
    "    :INPUT:\n",
    "      data   - whatever data you are radially averaging.  Data is\n",
    "              binned into a series of annuli of width 'annulus_width'\n",
    "              pixels.\n",
    "\n",
    "      annulus_width - width of each annulus.  Default is 1.\n",
    "\n",
    "      working_mask - array of same size as 'data', with zeros at\n",
    "                        whichever 'data' points you don't want included\n",
    "                        in the radial data computations.\n",
    "\n",
    "      x,y - coordinate system in which the data exists (used to set\n",
    "               the center of the data).  By default, these are set to\n",
    "               integer meshgrids\n",
    "\n",
    "      rmax -- maximum radial value over which to compute statistics\n",
    "    \n",
    "    :OUTPUT:\n",
    "        r - a data structure containing the following\n",
    "                   statistics, computed across each annulus:\n",
    "\n",
    "          .r      - the radial coordinate used (outer edge of annulus)\n",
    "\n",
    "          .mean   - mean of the data in the annulus\n",
    "\n",
    "          .sum    - the sum of all enclosed values at the given radius\n",
    "\n",
    "          .std    - standard deviation of the data in the annulus\n",
    "\n",
    "          .median - median value in the annulus\n",
    "\n",
    "          .max    - maximum value in the annulus\n",
    "\n",
    "          .min    - minimum value in the annulus\n",
    "\n",
    "          .numel  - number of elements in the annulus\n",
    "\n",
    "    :EXAMPLE:        \n",
    "      ::\n",
    "        \n",
    "        import numpy as np\n",
    "        import pylab as py\n",
    "        import radial_data as rad\n",
    "\n",
    "        # Create coordinate grid\n",
    "        npix = 50.\n",
    "        x = np.arange(npix) - npix/2.\n",
    "        xx, yy = np.meshgrid(x, x)\n",
    "        r = np.sqrt(xx**2 + yy**2)\n",
    "        fake_psf = np.exp(-(r/5.)**2)\n",
    "        noise = 0.1 * np.random.normal(0, 1, r.size).reshape(r.shape)\n",
    "        simulation = fake_psf + noise\n",
    "\n",
    "        rad_stats = rad.radial_data(simulation, x=xx, y=yy)\n",
    "\n",
    "        py.figure()\n",
    "        py.plot(rad_stats.r, rad_stats.mean / rad_stats.std)\n",
    "        py.xlabel('Radial coordinate')\n",
    "        py.ylabel('Signal to Noise')\n",
    "    \"\"\"\n",
    "    \n",
    "# 2012-02-25 20:40 IJMC: Empty bins now have numel=0, not nan.\n",
    "# 2012-02-04 17:41 IJMC: Added \"SUM\" flag\n",
    "# 2010-11-19 16:36 IJC: Updated documentation for Sphinx\n",
    "# 2010-03-10 19:22 IJC: Ported to python from Matlab\n",
    "# 2005/12/19 Added 'working_region' option (IJC)\n",
    "# 2005/12/15 Switched order of outputs (IJC)\n",
    "# 2005/12/12 IJC: Removed decifact, changed name, wrote comments.\n",
    "# 2005/11/04 by Ian Crossfield at the Jet Propulsion Laboratory\n",
    " \n",
    "    import numpy as ny\n",
    "\n",
    "    class radialDat:\n",
    "        \"\"\"Empty object container.\n",
    "        \"\"\"\n",
    "        def __init__(self): \n",
    "            self.mean = None\n",
    "            self.std = None\n",
    "            self.median = None\n",
    "            self.numel = None\n",
    "            self.max = None\n",
    "            self.min = None\n",
    "            self.r = None\n",
    "\n",
    "    #---------------------\n",
    "    # Set up input parameters\n",
    "    #---------------------\n",
    "    data = ny.array(data)\n",
    "    \n",
    "    if working_mask==None:\n",
    "        working_mask = ny.ones(data.shape,bool)\n",
    "    \n",
    "    npix, npiy = data.shape\n",
    "    if x is None or y is None:\n",
    "        x1 = ny.arange(-npix/2.,npix/2.)\n",
    "        y1 = ny.arange(-npiy/2.,npiy/2.)\n",
    "        x,y = ny.meshgrid(y1,x1)\n",
    "\n",
    "    r = abs(x+1j*y)\n",
    "\n",
    "    if rmax==None:\n",
    "        rmax = r[working_mask].max()\n",
    "\n",
    "    #---------------------\n",
    "    # Prepare the data container\n",
    "    #---------------------\n",
    "    dr = ny.abs([x[0,0] - x[0,1]]) * annulus_width\n",
    "    radial = ny.arange(rmax/dr)*dr + dr/2.\n",
    "    nrad = len(radial)\n",
    "    radialdata = radialDat()\n",
    "    radialdata.mean = ny.zeros(nrad)\n",
    "    radialdata.sum = ny.zeros(nrad)\n",
    "    radialdata.std = ny.zeros(nrad)\n",
    "    radialdata.median = ny.zeros(nrad)\n",
    "    radialdata.numel = ny.zeros(nrad, dtype=int)\n",
    "    radialdata.max = ny.zeros(nrad)\n",
    "    radialdata.min = ny.zeros(nrad)\n",
    "    radialdata.r = radial\n",
    "    \n",
    "    #---------------------\n",
    "    # Loop through the bins\n",
    "    #---------------------\n",
    "    for irad in range(nrad): #= 1:numel(radial)\n",
    "      minrad = irad*dr\n",
    "      maxrad = minrad + dr\n",
    "      thisindex = (r>=minrad) * (r<maxrad) * working_mask\n",
    "      #import pylab as py\n",
    "      #pdb.set_trace()\n",
    "      if not thisindex.ravel().any():\n",
    "        radialdata.mean[irad] = ny.nan\n",
    "        radialdata.sum[irad] = ny.nan\n",
    "        radialdata.std[irad]  = ny.nan\n",
    "        radialdata.median[irad] = ny.nan\n",
    "        radialdata.numel[irad] = 0\n",
    "        radialdata.max[irad] = ny.nan\n",
    "        radialdata.min[irad] = ny.nan\n",
    "      else:\n",
    "        radialdata.mean[irad] = data[thisindex].mean()\n",
    "        radialdata.sum[irad] = data[r<maxrad].sum()\n",
    "        radialdata.std[irad]  = data[thisindex].std()\n",
    "        radialdata.median[irad] = ny.median(data[thisindex])\n",
    "        radialdata.numel[irad] = data[thisindex].size\n",
    "        radialdata.max[irad] = data[thisindex].max()\n",
    "        radialdata.min[irad] = data[thisindex].min()\n",
    "    \n",
    "    #---------------------\n",
    "    # Return with data\n",
    "    #---------------------\n",
    "    \n",
    "    return radialdata"
   ]
  },
  {
   "cell_type": "code",
   "execution_count": 26,
   "id": "48bbdbc9",
   "metadata": {},
   "outputs": [
    {
     "data": {
      "text/plain": [
       "14.142135623730951"
      ]
     },
     "execution_count": 26,
     "metadata": {},
     "output_type": "execute_result"
    }
   ],
   "source": [
    "np.sqrt(10**2 + 10**2)"
   ]
  },
  {
   "cell_type": "code",
   "execution_count": null,
   "id": "6de14e89",
   "metadata": {},
   "outputs": [],
   "source": []
  },
  {
   "cell_type": "code",
   "execution_count": 19,
   "id": "17188500",
   "metadata": {},
   "outputs": [
    {
     "data": {
      "text/plain": [
       "'../outputs/jasper_1206_LAEs/MAGPI1206_updated_source_198.fits'"
      ]
     },
     "execution_count": 19,
     "metadata": {},
     "output_type": "execute_result"
    }
   ],
   "source": [
    "galaxies[0].replace('source', 'updated_source')"
   ]
  },
  {
   "cell_type": "code",
   "execution_count": 5,
   "id": "c4c15b68",
   "metadata": {},
   "outputs": [
    {
     "name": "stdout",
     "output_type": "stream",
     "text": [
      "../outputs/jasper_1206_LAEs/MAGPI1206_updated_source_73.fits\n",
      "../outputs/jasper_1206_LAEs/MAGPI1206_updated_source_190.fits\n",
      "../outputs/jasper_1206_LAEs/MAGPI1206_updated_source_43.fits\n",
      "../outputs/jasper_1206_LAEs/MAGPI1206_updated_source_191.fits\n",
      "../outputs/jasper_1206_LAEs/MAGPI1206_updated_source_200.fits\n",
      "../outputs/jasper_1206_LAEs/MAGPI1206_updated_source_74.fits\n",
      "../outputs/jasper_1206_LAEs/MAGPI1206_updated_source_192.fits\n",
      "../outputs/jasper_1206_LAEs/MAGPI1206_updated_source_131.fits\n",
      "../outputs/jasper_1206_LAEs/MAGPI1206_updated_source_76.fits\n",
      "../outputs/jasper_1206_LAEs/MAGPI1206_updated_source_198.fits\n",
      "../outputs/jasper_1206_LAEs/MAGPI1206_updated_source_92.fits\n",
      "../outputs/jasper_1206_LAEs/MAGPI1206_updated_source_141.fits\n",
      "../outputs/jasper_1206_LAEs/MAGPI1206_updated_source_101.fits\n"
     ]
    },
    {
     "data": {
      "image/png": "[encoded data removed]",
      "text/plain": [
       "<Figure size 432x288 with 3 Axes>"
      ]
     },
     "metadata": {
      "needs_background": "light"
     },
     "output_type": "display_data"
    },
    {
     "data": {
      "image/png": "[encoded data removed]",
      "text/plain": [
       "<Figure size 432x288 with 3 Axes>"
      ]
     },
     "metadata": {
      "needs_background": "light"
     },
     "output_type": "display_data"
    },
    {
     "data": {
      "image/png": "[encoded data removed]",
      "text/plain": [
       "<Figure size 432x288 with 3 Axes>"
      ]
     },
     "metadata": {
      "needs_background": "light"
     },
     "output_type": "display_data"
    },
    {
     "data": {
      "image/png": "[encoded data removed]",
      "text/plain": [
       "<Figure size 432x288 with 3 Axes>"
      ]
     },
     "metadata": {
      "needs_background": "light"
     },
     "output_type": "display_data"
    },
    {
     "data": {
      "image/png": "[encoded data removed]",
      "text/plain": [
       "<Figure size 432x288 with 3 Axes>"
      ]
     },
     "metadata": {
      "needs_background": "light"
     },
     "output_type": "display_data"
    },
    {
     "data": {
      "image/png": "[encoded data removed]",
      "text/plain": [
       "<Figure size 432x288 with 3 Axes>"
      ]
     },
     "metadata": {
      "needs_background": "light"
     },
     "output_type": "display_data"
    },
    {
     "data": {
      "image/png": "[encoded data removed]",
      "text/plain": [
       "<Figure size 432x288 with 3 Axes>"
      ]
     },
     "metadata": {
      "needs_background": "light"
     },
     "output_type": "display_data"
    },
    {
     "data": {
      "image/png": "[encoded data removed]",
      "text/plain": [
       "<Figure size 432x288 with 3 Axes>"
      ]
     },
     "metadata": {
      "needs_background": "light"
     },
     "output_type": "display_data"
    },
    {
     "data": {
      "image/png": "[encoded data removed]",
      "text/plain": [
       "<Figure size 432x288 with 3 Axes>"
      ]
     },
     "metadata": {
      "needs_background": "light"
     },
     "output_type": "display_data"
    },
    {
     "data": {
      "image/png": "[encoded data removed]",
      "text/plain": [
       "<Figure size 432x288 with 3 Axes>"
      ]
     },
     "metadata": {
      "needs_background": "light"
     },
     "output_type": "display_data"
    },
    {
     "data": {
      "image/png": "[encoded data removed]",
      "text/plain": [
       "<Figure size 432x288 with 3 Axes>"
      ]
     },
     "metadata": {
      "needs_background": "light"
     },
     "output_type": "display_data"
    },
    {
     "data": {
      "image/png": "[encoded data removed]",
      "text/plain": [
       "<Figure size 432x288 with 3 Axes>"
      ]
     },
     "metadata": {
      "needs_background": "light"
     },
     "output_type": "display_data"
    },
    {
     "data": {
      "image/png": "[encoded data removed]",
      "text/plain": [
       "<Figure size 432x288 with 3 Axes>"
      ]
     },
     "metadata": {
      "needs_background": "light"
     },
     "output_type": "display_data"
    }
   ],
   "source": [
    "galaxies = glob.glob('../outputs/jasper_1206_LAEs/MAGPI1206_updated_source_*.fits')\n",
    "\n",
    "for galaxy in galaxies: \n",
    "\n",
    "    s = Source.from_file(galaxy)\n",
    "    \n",
    "    print(galaxy)\n",
    "    \n",
    "    fig, axs = plt.subplots(ncols=3)\n",
    "\n",
    "    s.images['MUSE_WHITE'].plot(ax=axs[0])\n",
    "    s.images['LA'].plot(ax=axs[1])\n",
    "    s.images['SEG_LA'].plot(ax=axs[2])\n"
   ]
  },
  {
   "cell_type": "code",
   "execution_count": 14,
   "id": "0bbf046a",
   "metadata": {},
   "outputs": [],
   "source": [
    "s.extract_spectra(s.cubes['MUSE'],obj_mask='SEG_LA', tags_to_try=['LA'])"
   ]
  },
  {
   "cell_type": "code",
   "execution_count": 17,
   "id": "4eadfa59",
   "metadata": {},
   "outputs": [
    {
     "data": {
      "text/plain": [
       "<matplotlib.image.AxesImage at 0x7fdda188a2e8>"
      ]
     },
     "execution_count": 17,
     "metadata": {},
     "output_type": "execute_result"
    },
    {
     "data": {
      "image/png": "[encoded data removed]",
      "text/plain": [
       "<Figure size 432x288 with 1 Axes>"
      ]
     },
     "metadata": {
      "needs_background": "light"
     },
     "output_type": "display_data"
    }
   ],
   "source": [
    "s.images['MASK_UNION'].plot()"
   ]
  },
  {
   "cell_type": "code",
   "execution_count": 22,
   "id": "584c6674",
   "metadata": {},
   "outputs": [
    {
     "data": {
      "text/plain": [
       "<matplotlib.image.AxesImage at 0x7fdda15bf0f0>"
      ]
     },
     "execution_count": 22,
     "metadata": {},
     "output_type": "execute_result"
    },
    {
     "data": {
      "image/png": "[encoded data removed]",
      "text/plain": [
       "<Figure size 432x288 with 1 Axes>"
      ]
     },
     "metadata": {
      "needs_background": "light"
     },
     "output_type": "display_data"
    }
   ],
   "source": [
    "s.images['SEG_LA'].plot()"
   ]
  },
  {
   "cell_type": "code",
   "execution_count": null,
   "id": "3ad0f9b0",
   "metadata": {},
   "outputs": [],
   "source": []
  },
  {
   "cell_type": "code",
   "execution_count": 15,
   "id": "c275ac22",
   "metadata": {},
   "outputs": [
    {
     "name": "stderr",
     "output_type": "stream",
     "text": [
      "[INFO] ID      =                  101 / object ID %d                                   \n",
      "[INFO] RA      =     180.167259923912 / RA u.degree %.7f                               \n",
      "[INFO] DEC     =   -1.447188327073357 / DEC u.degree %.7f                              \n",
      "[INFO] FROM    = 'test    '           / detection software                             \n",
      "[INFO] FROM_V  = 'v0.0    '           / version of the detection software              \n",
      "[INFO] CUBE    = 'MAGPI1206.fits'     / datacube                                       \n",
      "[INFO] CUBE_V  = 'v1.34   '           / version of the datacube                        \n",
      "[INFO] SRC_V   = ''                                                                    \n",
      "[INFO] Y       =    283.0000000001016                                                  \n",
      "[INFO] X       =    100.9999999998212                                                  \n",
      "[INFO] FORMAT  = '0.6     '           / Version of the Source format                   \n",
      "[INFO] 2 spectra: MUSE_SKY MUSE_TOT_SKYSUB\n",
      "[INFO] 6 images: MUSE_WHITE LA MASK_SKY MASK_UNION SEG_LA MASK_INTER\n",
      "[INFO] 1 cubes: MUSE\n",
      "[INFO] 0 tables: \n"
     ]
    }
   ],
   "source": [
    "s.info()"
   ]
  },
  {
   "cell_type": "code",
   "execution_count": 25,
   "id": "6b1af48a",
   "metadata": {},
   "outputs": [
    {
     "data": {
      "text/plain": [
       "<matplotlib.image.AxesImage at 0x7fdff8220748>"
      ]
     },
     "execution_count": 25,
     "metadata": {},
     "output_type": "execute_result"
    },
    {
     "data": {
      "image/png": "[encoded data removed]",
      "text/plain": [
       "<Figure size 432x288 with 3 Axes>"
      ]
     },
     "metadata": {
      "needs_background": "light"
     },
     "output_type": "display_data"
    }
   ],
   "source": []
  },
  {
   "cell_type": "code",
   "execution_count": 14,
   "id": "e5bba0ff",
   "metadata": {},
   "outputs": [
    {
     "data": {
      "text/plain": [
       "<matplotlib.image.AxesImage at 0x7fdff79bb6a0>"
      ]
     },
     "execution_count": 14,
     "metadata": {},
     "output_type": "execute_result"
    },
    {
     "data": {
      "image/png": "[encoded data removed]",
      "text/plain": [
       "<Figure size 432x288 with 1 Axes>"
      ]
     },
     "metadata": {
      "needs_background": "light"
     },
     "output_type": "display_data"
    }
   ],
   "source": []
  },
  {
   "cell_type": "code",
   "execution_count": null,
   "id": "21b5cd5e",
   "metadata": {},
   "outputs": [],
   "source": []
  }
 ],
 "metadata": {
  "kernelspec": {
   "display_name": "Python [conda env:astroconda]",
   "language": "python",
   "name": "conda-env-astroconda-py"
  },
  "language_info": {
   "codemirror_mode": {
    "name": "ipython",
    "version": 3
   },
   "file_extension": ".py",
   "mimetype": "text/x-python",
   "name": "python",
   "nbconvert_exporter": "python",
   "pygments_lexer": "ipython3",
   "version": "3.6.13"
  },
  "toc": {
   "base_numbering": 1,
   "nav_menu": {},
   "number_sections": true,
   "sideBar": true,
   "skip_h1_title": false,
   "title_cell": "Table of Contents",
   "title_sidebar": "Contents",
   "toc_cell": false,
   "toc_position": {},
   "toc_section_display": true,
   "toc_window_display": false
  }
 },
 "nbformat": 4,
 "nbformat_minor": 5
}
